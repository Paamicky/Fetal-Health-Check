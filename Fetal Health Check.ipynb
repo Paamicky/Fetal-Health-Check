{
 "cells": [
  {
   "cell_type": "markdown",
   "id": "e37a31bc-a804-4cf9-bfab-f1d64165f59b",
   "metadata": {},
   "source": [
    "<span style=\"font-size:30px;\">**Fetal Health Check**.</span>  \n",
    "\n",
    "This project aims to compare three machine learning models developed in response to the rising instances of child and maternal mortality in hospitals. It focuses on assessing the fetal health of children and maternal well-being by examining factors such as fetal heart rate (FHR), fetal movements, and uterine contractions. Performance metrics such F1 score, precision and recall are considered."
   ]
  },
  {
   "cell_type": "code",
   "execution_count": null,
   "id": "2d00792d-6f61-4425-8c38-df65cff90875",
   "metadata": {},
   "outputs": [],
   "source": []
  },
  {
   "cell_type": "markdown",
   "id": "7733b6cf-fe1b-4746-b923-0a8926892866",
   "metadata": {},
   "source": [
    "<span style=\"font-size:20px;\">**Decision Tree Model**.</span>"
   ]
  },
  {
   "cell_type": "code",
   "execution_count": 75,
   "id": "c83a2133-91d8-40d5-be42-b592e0076a8c",
   "metadata": {},
   "outputs": [],
   "source": [
    "#Load necessary libraries\n",
    "import numpy as np\n",
    "import pandas as pd\n",
    "from sklearn.model_selection import train_test_split \n",
    "from sklearn.tree import DecisionTreeClassifier\n",
    "from sklearn.metrics import confusion_matrix,classification_report, accuracy_score\n",
    "from sklearn.preprocessing import LabelEncoder\n",
    "import matplotlib.pyplot as plt\n",
    "import seaborn as sns\n",
    "import warnings\n",
    "\n",
    "warnings.filterwarnings(\"ignore\", category=FutureWarning)"
   ]
  },
  {
   "cell_type": "code",
   "execution_count": 76,
   "id": "3cd8fb61-0873-4b58-810d-02c75ca5a4a3",
   "metadata": {},
   "outputs": [
    {
     "name": "stdout",
     "output_type": "stream",
     "text": [
      "   baseline_value  accelerations  fetal_movement  uterine_contractions  \\\n",
      "0             120          0.000             0.0                 0.000   \n",
      "1             132          0.006             0.0                 0.006   \n",
      "2             133          0.003             0.0                 0.008   \n",
      "3             134          0.003             0.0                 0.008   \n",
      "4             132          0.007             0.0                 0.008   \n",
      "\n",
      "   light_decelerations  prolongued_decelerations  abnormal_short_term  \\\n",
      "0                0.000                       0.0                   73   \n",
      "1                0.003                       0.0                   17   \n",
      "2                0.003                       0.0                   16   \n",
      "3                0.003                       0.0                   16   \n",
      "4                0.000                       0.0                   16   \n",
      "\n",
      "   fetalhealth  \n",
      "0            2  \n",
      "1            1  \n",
      "2            1  \n",
      "3            1  \n",
      "4            1  \n"
     ]
    }
   ],
   "source": [
    "#Load dataset to see the data you're working with\n",
    "filepath = 'FetalHealth.csv'\n",
    "data = pd.read_csv(filepath)  \n",
    "print(data.head())"
   ]
  },
  {
   "cell_type": "code",
   "execution_count": 77,
   "id": "440eae07-9c8c-4076-8145-8a9eba18b223",
   "metadata": {},
   "outputs": [
    {
     "name": "stdout",
     "output_type": "stream",
     "text": [
      "   baseline_value  accelerations  fetal_movement  uterine_contractions  \\\n",
      "0             120          0.000             0.0                 0.000   \n",
      "1             132          0.006             0.0                 0.006   \n",
      "2             133          0.003             0.0                 0.008   \n",
      "3             134          0.003             0.0                 0.008   \n",
      "4             132          0.007             0.0                 0.008   \n",
      "\n",
      "   light_decelerations  prolongued_decelerations  abnormal_short_term  \\\n",
      "0                0.000                       0.0                   73   \n",
      "1                0.003                       0.0                   17   \n",
      "2                0.003                       0.0                   16   \n",
      "3                0.003                       0.0                   16   \n",
      "4                0.000                       0.0                   16   \n",
      "\n",
      "   fetalhealth  \n",
      "0            2  \n",
      "1            1  \n",
      "2            1  \n",
      "3            1  \n",
      "4            1  \n"
     ]
    }
   ],
   "source": [
    "#Preprocessing: extract independent-x and dependent-y variables        \n",
    "y_data = data['fetalhealth']\n",
    "X_data = data.drop('fetalhealth', axis = 1)\n",
    "print(data.head())"
   ]
  },
  {
   "cell_type": "code",
   "execution_count": 78,
   "id": "d1eb89c5-1198-4f88-9e77-261c4efe2990",
   "metadata": {},
   "outputs": [
    {
     "name": "stdout",
     "output_type": "stream",
     "text": [
      "(1488, 7) : Training data size\n",
      "(638, 7) : Test data size\n"
     ]
    }
   ],
   "source": [
    "#Get Training and Test sets\n",
    "X_train, X_test, y_train, y_test = train_test_split(X_data, y_data, test_size = 0.30, random_state = 0)\n",
    "print(X_train.shape, ': Training data size')\n",
    "print(X_test.shape, ': Test data size') "
   ]
  },
  {
   "cell_type": "markdown",
   "id": "c34f29f2-34f3-4576-b4c8-1b75b2b88854",
   "metadata": {},
   "source": [
    "__Training the Decision Tree Classifier:__ use entropy for criterion, which specifies that the criterion for splitting nodes is based on information entropy."
   ]
  },
  {
   "cell_type": "code",
   "execution_count": 79,
   "id": "e38ee86c-96d4-413c-be78-31bd42c069d9",
   "metadata": {},
   "outputs": [],
   "source": [
    "DTclass = DecisionTreeClassifier(criterion='entropy', random_state=0)     \n",
    "\n",
    "#Train the decision tree classifier\n",
    "DTclass.fit(X_train, y_train)    \n",
    "\n",
    "#The predict method is used to make predictions on the test set\n",
    "pred_y = DTclass.predict(X_test)"
   ]
  },
  {
   "cell_type": "markdown",
   "id": "82f140ce-907f-4da3-b732-cbdaa821fb2a",
   "metadata": {},
   "source": [
    "**Evaluating the trained model**"
   ]
  },
  {
   "cell_type": "code",
   "execution_count": 80,
   "id": "4bd87490-017d-4283-b4a0-2b328cdd10af",
   "metadata": {},
   "outputs": [
    {
     "name": "stdout",
     "output_type": "stream",
     "text": [
      "              precision    recall  f1-score   support\n",
      "\n",
      "           1       0.95      0.95      0.95       494\n",
      "           2       0.66      0.60      0.63        86\n",
      "           3       0.75      0.81      0.78        58\n",
      "\n",
      "    accuracy                           0.89       638\n",
      "   macro avg       0.78      0.79      0.79       638\n",
      "weighted avg       0.89      0.89      0.89       638\n",
      "\n",
      "[[470  19   5]\n",
      " [ 23  52  11]\n",
      " [  3   8  47]]\n",
      "\n",
      "Accuracy: 0.892\n"
     ]
    }
   ],
   "source": [
    "C_matrix = confusion_matrix(y_test, pred_y)\n",
    "\n",
    "#printing the classification report and confusion matrix from the model\n",
    "print(classification_report(y_test, pred_y))\n",
    "print(C_matrix)\n",
    "print(\"\\nAccuracy:\", round(accuracy_score(y_test, pred_y),3))"
   ]
  },
  {
   "cell_type": "code",
   "execution_count": null,
   "id": "512c6b97-264e-4eb2-8a52-fe9c8ca8523c",
   "metadata": {},
   "outputs": [],
   "source": []
  },
  {
   "cell_type": "markdown",
   "id": "7b1c43bc-9f4b-4f12-b930-055350326132",
   "metadata": {},
   "source": [
    "__Analyzing the classification report__"
   ]
  },
  {
   "cell_type": "markdown",
   "id": "f03e110d-e4d8-46e9-a706-de3f93ced5e3",
   "metadata": {},
   "source": [
    "- Precision measures the accuracy of positive predictions. It's the ratio of correctly predicted positive observations to the total predicted positives.\n",
    "- Recall measures the ability of the model to capture all the relevant instances of a class. It's the ratio of correctly predicted positive observations to the total actual positives.\n",
    "- The F1-score is the harmonic mean of precision and recall. It provides a balance between precision and recall.\n",
    "\n",
    "So for the three instances/ classes the model predicts: It performs well for class 1, moderately for class 2, and quite well for class 3. Class imbalances are not severe, and overall accuracy is 89%. Further investigation may be needed, especially for class 2."
   ]
  },
  {
   "cell_type": "markdown",
   "id": "2880a3b8-4bea-49a0-bb7c-64eca4bccf46",
   "metadata": {},
   "source": [
    "**visualizing the confusion matrix**"
   ]
  },
  {
   "cell_type": "code",
   "execution_count": 81,
   "id": "43828875-d76a-40c1-9559-42c66441429e",
   "metadata": {},
   "outputs": [
    {
     "data": {
      "image/png": "[encoded data removed]",
      "text/plain": [
       "<Figure size 600x400 with 1 Axes>"
      ]
     },
     "metadata": {},
     "output_type": "display_data"
    }
   ],
   "source": [
    "plt.figure(figsize=(6, 4))\n",
    "sns.heatmap(C_matrix, annot=True, fmt=\"d\", cmap=\"coolwarm\", cbar=False)\n",
    "plt.title(\"Confusion Matrix\")\n",
    "plt.xlabel(\"Predicted Labels\")\n",
    "plt.ylabel(\"True Labels\")\n",
    "plt.show()"
   ]
  },
  {
   "cell_type": "markdown",
   "id": "451cb9e6-e9ee-463c-8c68-35488670d237",
   "metadata": {},
   "source": []
  },
  {
   "cell_type": "markdown",
   "id": "b746b6cc-c950-47b9-88bc-5329c57a1248",
   "metadata": {},
   "source": [
    "<span style=\"font-size:20px;\">**Randon Forest Model**</span>"
   ]
  },
  {
   "cell_type": "code",
   "execution_count": 82,
   "id": "d46b5bf2-d90f-498b-aa0e-5c4dccdc89fa",
   "metadata": {},
   "outputs": [],
   "source": [
    "#import random forest library\n",
    "from sklearn.ensemble import RandomForestClassifier"
   ]
  },
  {
   "cell_type": "markdown",
   "id": "ddae2499-d068-460c-9369-dcb7d09c304a",
   "metadata": {},
   "source": [
    " <span style=\"font-size:16px;\">Using the same dataset, we build a random forest model..</span>"
   ]
  },
  {
   "cell_type": "code",
   "execution_count": 83,
   "id": "5a221b55-43f2-4b2d-b999-4d1065b8e361",
   "metadata": {},
   "outputs": [],
   "source": [
    "\n",
    "RFclass = RandomForestClassifier(n_estimators=50, bootstrap=True, criterion='entropy', random_state=0) \n",
    "\n",
    "#Train the Random Forest classifier\n",
    "RFclass.fit(X_train, y_train)    \n",
    "pred_y = RFclass.predict(X_test)"
   ]
  },
  {
   "cell_type": "code",
   "execution_count": null,
   "id": "d7f0e7f4-389e-4a99-8e01-4af9fd722f51",
   "metadata": {},
   "outputs": [],
   "source": []
  },
  {
   "cell_type": "markdown",
   "id": "983f7ce3-ad06-4067-8a4a-85d5dbf405a4",
   "metadata": {},
   "source": [
    "**Evaluating the trained model**"
   ]
  },
  {
   "cell_type": "code",
   "execution_count": 84,
   "id": "f83a77cc-7f24-4876-a5f7-52fc56ed21b9",
   "metadata": {},
   "outputs": [
    {
     "name": "stdout",
     "output_type": "stream",
     "text": [
      "Confusion Matrix: \n",
      "\n",
      " [[484  10   0]\n",
      " [ 24  55   7]\n",
      " [  4   9  45]]\n",
      "\n",
      " Classification Report: \n",
      "               precision    recall  f1-score   support\n",
      "\n",
      "           1       0.95      0.98      0.96       494\n",
      "           2       0.74      0.64      0.69        86\n",
      "           3       0.87      0.78      0.82        58\n",
      "\n",
      "    accuracy                           0.92       638\n",
      "   macro avg       0.85      0.80      0.82       638\n",
      "weighted avg       0.91      0.92      0.91       638\n",
      "\n",
      "\n",
      "Accuracy: =  0.915\n"
     ]
    }
   ],
   "source": [
    "Cmatrix = confusion_matrix(y_test, pred_y)\n",
    "print('Confusion Matrix: \\n\\n', Cmatrix)\n",
    "print('\\n Classification Report: \\n', classification_report(y_test, pred_y))\n",
    "print(\"\\nAccuracy: = \", round(accuracy_score(y_test, pred_y),3))"
   ]
  },
  {
   "cell_type": "code",
   "execution_count": null,
   "id": "cddbd942-e8f7-40e9-8fea-6cce88172990",
   "metadata": {},
   "outputs": [],
   "source": []
  },
  {
   "cell_type": "markdown",
   "id": "562e7b1d-4eb7-425d-9055-715dcc263000",
   "metadata": {},
   "source": [
    "__Analyzing the classification report__"
   ]
  },
  {
   "cell_type": "markdown",
   "id": "b315c068-52ad-4d3e-aa07-3e999a358736",
   "metadata": {},
   "source": [
    "Class 1 shows high precision, recall, and F1-score, indicating accurate predictions. Class 2 exhibits moderate precision and recall, with room for improvement in prediction accuracy. Class 3 demonstrates good precision and recall, contributing to a balanced F1-score. \n",
    "Overall accuracy is 92%, and macro and weighted averages suggest a well-performing model across the evaluated metrics."
   ]
  },
  {
   "cell_type": "code",
   "execution_count": null,
   "id": "8a302274-dd99-450d-8e9c-544deec7b543",
   "metadata": {},
   "outputs": [],
   "source": []
  },
  {
   "cell_type": "markdown",
   "id": "0329de5f-c568-463a-bdc9-f73ccb489a8c",
   "metadata": {},
   "source": [
    "**visualizing the confusion matrix**"
   ]
  },
  {
   "cell_type": "code",
   "execution_count": 85,
   "id": "60d12287-a732-49ff-a3b7-5eb0c0d6d633",
   "metadata": {},
   "outputs": [
    {
     "data": {
      "image/png": "[encoded data removed]",
      "text/plain": [
       "<Figure size 600x400 with 1 Axes>"
      ]
     },
     "metadata": {},
     "output_type": "display_data"
    }
   ],
   "source": [
    "plt.figure(figsize=(6, 4))\n",
    "sns.heatmap(Cmatrix, annot=True, fmt=\"d\", cmap=\"coolwarm\", cbar=False)\n",
    "plt.title(\"Confusion Matrix\")\n",
    "plt.xlabel(\"Predicted Labels\")\n",
    "plt.ylabel(\"True Labels\")\n",
    "plt.show()"
   ]
  },
  {
   "cell_type": "code",
   "execution_count": null,
   "id": "9ceb0cdf-4ae0-4d12-9e8b-7b8a420a77f4",
   "metadata": {},
   "outputs": [],
   "source": []
  },
  {
   "cell_type": "markdown",
   "id": "c3d642fe-2980-4fbc-b237-e1a43ae2cc8b",
   "metadata": {},
   "source": [
    "<span style=\"font-size:24px;\">**K-Nearest Neighbor Model**</span>"
   ]
  },
  {
   "cell_type": "code",
   "execution_count": 86,
   "id": "19f1acc7-6380-4d1d-8d61-7bc89ceed746",
   "metadata": {},
   "outputs": [],
   "source": [
    "#import neccesary libraries\n",
    "from sklearn.preprocessing import StandardScaler\n",
    "from sklearn.neighbors import KNeighborsClassifier"
   ]
  },
  {
   "cell_type": "code",
   "execution_count": 87,
   "id": "912b644d-0046-4678-a2ee-33ef16331a67",
   "metadata": {},
   "outputs": [],
   "source": [
    "#use the StandardScaler function to standardize the feature values so they contribute equally to the distance computation\n",
    "scaler = StandardScaler()\n",
    "X_train_scaled = scaler.fit_transform(X_train)\n",
    "X_test_scaled = scaler.transform(X_test)"
   ]
  },
  {
   "cell_type": "markdown",
   "id": "7ae2ddc3-816b-40f8-b03a-6130669dbd5f",
   "metadata": {},
   "source": [
    "<span style='font-size:16px;'>**Train the KNN Model**</span>"
   ]
  },
  {
   "cell_type": "code",
   "execution_count": 88,
   "id": "d4d5ce3f-6909-45ff-ad26-400fb2b9fb21",
   "metadata": {},
   "outputs": [
    {
     "data": {
      "text/plain": [
       "KNeighborsClassifier(n_neighbors=3)"
      ]
     },
     "execution_count": 88,
     "metadata": {},
     "output_type": "execute_result"
    }
   ],
   "source": [
    "#adjust the value of K to get the best results\n",
    "k = 3\n",
    "knn_model = KNeighborsClassifier(n_neighbors = k)\n",
    "\n",
    "knn_model.fit(X_train_scaled, y_train)"
   ]
  },
  {
   "cell_type": "markdown",
   "id": "e873e412-3b16-450f-b86e-bc7985b73a0e",
   "metadata": {},
   "source": [
    "<span style='font-size=16px;'>**Making predictions**</span>"
   ]
  },
  {
   "cell_type": "code",
   "execution_count": 89,
   "id": "3b9f022c-4cc8-4f8d-94c3-8a0995c336b5",
   "metadata": {},
   "outputs": [],
   "source": [
    "y_pred = knn_model.predict(X_test_scaled)"
   ]
  },
  {
   "cell_type": "markdown",
   "id": "6b7c6770-1b10-473b-bd28-5c6f8a335119",
   "metadata": {},
   "source": [
    "<span style='font-size:16px;'>**Evaluating the trained Model**</span>"
   ]
  },
  {
   "cell_type": "code",
   "execution_count": 90,
   "id": "f868ada7-3f7d-4013-8091-7c39028b27d0",
   "metadata": {},
   "outputs": [
    {
     "name": "stdout",
     "output_type": "stream",
     "text": [
      "Classification Report:\n",
      "               precision    recall  f1-score   support\n",
      "\n",
      "           1       0.94      0.95      0.95       494\n",
      "           2       0.64      0.67      0.66        86\n",
      "           3       0.91      0.71      0.80        58\n",
      "\n",
      "    accuracy                           0.89       638\n",
      "   macro avg       0.83      0.78      0.80       638\n",
      "weighted avg       0.90      0.89      0.89       638\n",
      "\n",
      "Confusion Matrix:\n",
      " [[471  21   2]\n",
      " [ 26  58   2]\n",
      " [  5  12  41]]\n",
      "\n",
      "Accuracy: 0.893\n"
     ]
    }
   ],
   "source": [
    "#confusion matrix\n",
    "Conf_matrix = confusion_matrix(y_test, y_pred)\n",
    "\n",
    "print(\"Classification Report:\\n\", classification_report(y_test, y_pred))\n",
    "print(\"Confusion Matrix:\\n\", Conf_matrix)\n",
    "print(\"\\nAccuracy:\", round(accuracy_score(y_test, y_pred),3))"
   ]
  },
  {
   "cell_type": "code",
   "execution_count": null,
   "id": "406a8787-542f-4bfc-8f4d-2f325498e31a",
   "metadata": {},
   "outputs": [],
   "source": []
  },
  {
   "cell_type": "markdown",
   "id": "350a1540-d91e-4f68-829d-83f1bd1b812e",
   "metadata": {},
   "source": [
    "**Analyzing the classification report**  \n",
    "For Class 1, precision and recall are both high at 0.94 and 0.95, respectively, resulting in an overall F1-score of 0.95. Class 2 exhibits slightly lower precision and recall at 0.64 and 0.67, contributing to an F1-score of 0.66. Class 3 displays a high precision of 0.91 but a lower recall of 0.71, yielding an F1-score of 0.80. The overall accuracy of the model is 0.89, and the macro-average F1-score is 0.80, with a weighted average F1-score of 0.89, suggesting a generally strong performance across the three classes."
   ]
  },
  {
   "cell_type": "code",
   "execution_count": null,
   "id": "648154fc-3c06-43a2-9233-f5f73d807a68",
   "metadata": {},
   "outputs": [],
   "source": []
  },
  {
   "cell_type": "markdown",
   "id": "86134f5b-6762-4166-a2bf-c359773a7f04",
   "metadata": {},
   "source": [
    "**visualizing the confusion matrix**"
   ]
  },
  {
   "cell_type": "code",
   "execution_count": 91,
   "id": "c301459f-3f49-4d68-9b37-d787170cdfb8",
   "metadata": {},
   "outputs": [
    {
     "data": {
      "image/png": "[encoded data removed]",
      "text/plain": [
       "<Figure size 600x400 with 1 Axes>"
      ]
     },
     "metadata": {},
     "output_type": "display_data"
    }
   ],
   "source": [
    "plt.figure(figsize=(6, 4))\n",
    "sns.heatmap(Conf_matrix, annot=True, fmt=\"d\", cmap=\"coolwarm\", cbar=False)\n",
    "plt.title(\"Confusion Matrix\")\n",
    "plt.xlabel(\"Predicted Labels\")\n",
    "plt.ylabel(\"True Labels\")\n",
    "plt.show()"
   ]
  },
  {
   "cell_type": "code",
   "execution_count": null,
   "id": "4dc1b4f0-fb04-4913-b57e-272761baee2d",
   "metadata": {},
   "outputs": [],
   "source": []
  },
  {
   "cell_type": "markdown",
   "id": "136d9c61-8410-4a0d-ba05-507a20c1d67f",
   "metadata": {},
   "source": [
    "<span style='font-size:26px;'>**Summary and Evaulation of the three models**</span>"
   ]
  },
  {
   "cell_type": "markdown",
   "id": "ce2c3ebe-2164-4f33-993e-3e6383a71ceb",
   "metadata": {},
   "source": [
    "\n",
    "- Decision Tree and KNN Model have identical metrics for each class.\n",
    "- Random Forest outperforms in Class 1 with high precision, recall, and F1-score.\n",
    "- Random Forest also exhibits higher overall accuracy (92%) compared to Decision Tree and KNN Model (both at 89%).\n",
    "- Class 2 performance is similar for Decision Tree and KNN Model, while Random Forest indicates room for improvement.\n",
    "- All models display generally strong performance across the evaluated metrics.\n",
    "\n",
    "In summary, while Decision Tree and KNN Model show similar performances, Random Forest stands out with higher accuracy and strong performance in predicting Class 1 instances. Further tuning or exploration may be beneficial, especially for improving predictions in Class 2 across all models."
   ]
  },
  {
   "cell_type": "code",
   "execution_count": null,
   "id": "c1dc8d0d-a94b-498d-94d3-838ca45708d6",
   "metadata": {},
   "outputs": [],
   "source": []
  }
 ],
 "metadata": {
  "kernelspec": {
   "display_name": "Python 3 (ipykernel)",
   "language": "python",
   "name": "python3"
  },
  "language_info": {
   "codemirror_mode": {
    "name": "ipython",
    "version": 3
   },
   "file_extension": ".py",
   "mimetype": "text/x-python",
   "name": "python",
   "nbconvert_exporter": "python",
   "pygments_lexer": "ipython3",
   "version": "3.9.13"
  }
 },
 "nbformat": 4,
 "nbformat_minor": 5
}
